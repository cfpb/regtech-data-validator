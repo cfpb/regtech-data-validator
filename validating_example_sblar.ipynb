{
 "cells": [
  {
   "cell_type": "code",
   "execution_count": 1,
   "metadata": {},
   "outputs": [],
   "source": [
    "\n",
    "import warnings \n",
    "\n",
    "import pandas as pd\n",
    "\n",
    "from schema import sblar_schema"
   ]
  },
  {
   "attachments": {},
   "cell_type": "markdown",
   "metadata": {},
   "source": [
    "# Let's Get Some Data\n",
    "\n",
    "This data is manually created. I've created an excel file called `example_sblar.xlsx` that has a sheet called valid and one called invalid. Not every edge case is captured. This is for demonstration purposes only"
   ]
  },
  {
   "cell_type": "code",
   "execution_count": null,
   "metadata": {},
   "outputs": [],
   "source": [
    "valid_sblar_df = pd.read_excel(\"example_sblar.xlsx\", engine=\"openpyxl\", sheet_name=\"valid\", dtype=str, na_filter=False)\n",
    "valid_sblar_df"
   ]
  },
  {
   "cell_type": "code",
   "execution_count": null,
   "metadata": {},
   "outputs": [],
   "source": [
    "invalid_sblar_df = pd.read_excel(\"example_sblar.xlsx\", engine=\"openpyxl\", sheet_name=\"invalid\", dtype=str, na_filter=False)\n",
    "invalid_sblar_df"
   ]
  },
  {
   "attachments": {},
   "cell_type": "markdown",
   "metadata": {},
   "source": [
    "# Time for Validation\n",
    "\n",
    "Here we validate the valid and invalid dataframes using Pandera directly."
   ]
  },
  {
   "cell_type": "code",
   "execution_count": null,
   "metadata": {},
   "outputs": [],
   "source": [
    "sblar_schema.validate(valid_sblar_df)"
   ]
  },
  {
   "cell_type": "code",
   "execution_count": null,
   "metadata": {},
   "outputs": [],
   "source": [
    "sblar_schema.validate(invalid_sblar_df)"
   ]
  },
  {
   "attachments": {},
   "cell_type": "markdown",
   "metadata": {},
   "source": [
    "### Capture the Validation Warnings"
   ]
  },
  {
   "cell_type": "code",
   "execution_count": null,
   "metadata": {},
   "outputs": [],
   "source": [
    "with warnings.catch_warnings(record=True) as validation_warnings:\n",
    "    sblar_schema.validate(invalid_sblar_df)\n",
    "    print(\"\")\n",
    "    "
   ]
  }
 ],
 "metadata": {
  "kernelspec": {
   "display_name": "base",
   "language": "python",
   "name": "python3"
  },
  "language_info": {
   "codemirror_mode": {
    "name": "ipython",
    "version": 3
   },
   "file_extension": ".py",
   "mimetype": "text/x-python",
   "name": "python",
   "nbconvert_exporter": "python",
   "pygments_lexer": "ipython3",
   "version": "3.10.8"
  },
  "orig_nbformat": 4
 },
 "nbformat": 4,
 "nbformat_minor": 2
}
